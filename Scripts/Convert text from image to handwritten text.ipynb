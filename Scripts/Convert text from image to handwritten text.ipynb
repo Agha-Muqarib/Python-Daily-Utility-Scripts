{
 "cells": [
  {
   "cell_type": "code",
   "execution_count": 1,
   "id": "d41be0c4",
   "metadata": {},
   "outputs": [
    {
     "name": "stdout",
     "output_type": "stream",
     "text": [
      "Collecting pytesseract\n",
      "  Downloading pytesseract-0.3.8.tar.gz (14 kB)\n",
      "Requirement already satisfied: Pillow in c:\\users\\theengineerguyy\\anaconda3\\lib\\site-packages (from pytesseract) (8.2.0)\n",
      "Building wheels for collected packages: pytesseract\n",
      "  Building wheel for pytesseract (setup.py): started\n",
      "  Building wheel for pytesseract (setup.py): finished with status 'done'\n",
      "  Created wheel for pytesseract: filename=pytesseract-0.3.8-py2.py3-none-any.whl size=14065 sha256=53044cb32b51be83301809607abb8f05cd6c7d8c4a2543e11bdf4f9a2bb0dc7b\n",
      "  Stored in directory: c:\\users\\theengineerguyy\\appdata\\local\\pip\\cache\\wheels\\ed\\8a\\c6\\40c7ec06c2dd3df636832537238128a1471bf9c1b6a3a9bf40\n",
      "Successfully built pytesseract\n",
      "Installing collected packages: pytesseract\n",
      "Successfully installed pytesseract-0.3.8\n",
      "Note: you may need to restart the kernel to use updated packages.\n"
     ]
    }
   ],
   "source": [
    "pip install pytesseract"
   ]
  },
  {
   "cell_type": "code",
   "execution_count": 2,
   "id": "8d6eede4",
   "metadata": {},
   "outputs": [
    {
     "name": "stdout",
     "output_type": "stream",
     "text": [
      "Collecting pywhatkit\n",
      "  Downloading pywhatkit-5.3-py3-none-any.whl (15 kB)\n",
      "Requirement already satisfied: requests in c:\\users\\theengineerguyy\\anaconda3\\lib\\site-packages (from pywhatkit) (2.25.1)\n",
      "Collecting pyautogui\n",
      "  Downloading PyAutoGUI-0.9.53.tar.gz (59 kB)\n",
      "Requirement already satisfied: Pillow in c:\\users\\theengineerguyy\\anaconda3\\lib\\site-packages (from pywhatkit) (8.2.0)\n",
      "Collecting wikipedia\n",
      "  Downloading wikipedia-1.4.0.tar.gz (27 kB)\n",
      "Collecting pymsgbox\n",
      "  Downloading PyMsgBox-1.0.9.tar.gz (18 kB)\n",
      "  Installing build dependencies: started\n",
      "  Installing build dependencies: finished with status 'done'\n",
      "  Getting requirements to build wheel: started\n",
      "  Getting requirements to build wheel: finished with status 'done'\n",
      "    Preparing wheel metadata: started\n",
      "    Preparing wheel metadata: finished with status 'done'\n",
      "Collecting PyTweening>=1.0.1\n",
      "  Downloading pytweening-1.0.4.tar.gz (14 kB)\n",
      "Collecting pyscreeze>=0.1.21\n",
      "  Downloading PyScreeze-0.1.28.tar.gz (25 kB)\n",
      "  Installing build dependencies: started\n",
      "  Installing build dependencies: finished with status 'done'\n",
      "  Getting requirements to build wheel: started\n",
      "  Getting requirements to build wheel: finished with status 'done'\n",
      "    Preparing wheel metadata: started\n",
      "    Preparing wheel metadata: finished with status 'done'\n",
      "Collecting pygetwindow>=0.0.5\n",
      "  Downloading PyGetWindow-0.0.9.tar.gz (9.7 kB)\n",
      "Collecting mouseinfo\n",
      "  Downloading MouseInfo-0.1.3.tar.gz (10 kB)\n",
      "Collecting pyrect\n",
      "  Downloading PyRect-0.1.4.tar.gz (15 kB)\n",
      "Collecting pyperclip\n",
      "  Downloading pyperclip-1.8.2.tar.gz (20 kB)\n",
      "Requirement already satisfied: idna<3,>=2.5 in c:\\users\\theengineerguyy\\anaconda3\\lib\\site-packages (from requests->pywhatkit) (2.10)\n",
      "Requirement already satisfied: chardet<5,>=3.0.2 in c:\\users\\theengineerguyy\\anaconda3\\lib\\site-packages (from requests->pywhatkit) (4.0.0)\n",
      "Requirement already satisfied: urllib3<1.27,>=1.21.1 in c:\\users\\theengineerguyy\\anaconda3\\lib\\site-packages (from requests->pywhatkit) (1.26.4)\n",
      "Requirement already satisfied: certifi>=2017.4.17 in c:\\users\\theengineerguyy\\anaconda3\\lib\\site-packages (from requests->pywhatkit) (2020.12.5)\n",
      "Requirement already satisfied: beautifulsoup4 in c:\\users\\theengineerguyy\\anaconda3\\lib\\site-packages (from wikipedia->pywhatkit) (4.9.3)\n",
      "Requirement already satisfied: soupsieve>1.2 in c:\\users\\theengineerguyy\\anaconda3\\lib\\site-packages (from beautifulsoup4->wikipedia->pywhatkit) (2.2.1)\n",
      "Building wheels for collected packages: pyautogui, pygetwindow, pyscreeze, PyTweening, mouseinfo, pymsgbox, pyperclip, pyrect, wikipedia\n",
      "  Building wheel for pyautogui (setup.py): started\n",
      "  Building wheel for pyautogui (setup.py): finished with status 'done'\n",
      "  Created wheel for pyautogui: filename=PyAutoGUI-0.9.53-py3-none-any.whl size=36583 sha256=84cd83e5c0497839c07b1f778372306d93049056dbb34e3d4ec1138b46060055\n",
      "  Stored in directory: c:\\users\\theengineerguyy\\appdata\\local\\pip\\cache\\wheels\\54\\04\\f7\\55704a9d374ed923785a4fdc0ef00151fa25306b3b93345532\n",
      "  Building wheel for pygetwindow (setup.py): started\n",
      "  Building wheel for pygetwindow (setup.py): finished with status 'done'\n",
      "  Created wheel for pygetwindow: filename=PyGetWindow-0.0.9-py3-none-any.whl size=11078 sha256=ad6c689a90cb56167a8961bbc766394a47b663ddbadd7a53e28758e6ea52c6b8\n",
      "  Stored in directory: c:\\users\\theengineerguyy\\appdata\\local\\pip\\cache\\wheels\\91\\e3\\04\\184bda98ec7f7d5f0ba1f372bcf7b3ba86325151ae1dd690fe\n",
      "  Building wheel for pyscreeze (PEP 517): started\n",
      "  Building wheel for pyscreeze (PEP 517): finished with status 'done'\n",
      "  Created wheel for pyscreeze: filename=PyScreeze-0.1.28-py3-none-any.whl size=13021 sha256=c637f96d1c595dd036177db95e550dacb9037f99428b2eb8a623a1532dd1ebc0\n",
      "  Stored in directory: c:\\users\\theengineerguyy\\appdata\\local\\pip\\cache\\wheels\\b1\\b0\\5c\\9fb5beb2d6c708479a670e92f4ab3b54523a15c9cd4a46e24e\n",
      "  Building wheel for PyTweening (setup.py): started\n",
      "  Building wheel for PyTweening (setup.py): finished with status 'done'\n",
      "  Created wheel for PyTweening: filename=pytweening-1.0.4-py3-none-any.whl size=5825 sha256=2e8c62551eb8190777ccfa9541bcccddf14c0841bed1a688cbe86b2c01782530\n",
      "  Stored in directory: c:\\users\\theengineerguyy\\appdata\\local\\pip\\cache\\wheels\\a2\\1b\\69\\dc477653ccc19228bf53af76c623e4e82e5dc1b6f78d5c4d35\n",
      "  Building wheel for mouseinfo (setup.py): started\n",
      "  Building wheel for mouseinfo (setup.py): finished with status 'done'\n",
      "  Created wheel for mouseinfo: filename=MouseInfo-0.1.3-py3-none-any.whl size=10905 sha256=8103324d0e63358c0e178626b4521cb6618064a0166ff55b8648a8d6b704a6b1\n",
      "  Stored in directory: c:\\users\\theengineerguyy\\appdata\\local\\pip\\cache\\wheels\\d1\\72\\fb\\35f403de66285df8ecca7049bcc61bfb57aba0f76d1f08f7eb\n",
      "  Building wheel for pymsgbox (PEP 517): started\n",
      "  Building wheel for pymsgbox (PEP 517): finished with status 'done'\n",
      "  Created wheel for pymsgbox: filename=PyMsgBox-1.0.9-py3-none-any.whl size=7420 sha256=dba1c2ba6ad307f03cd728ca177242ca496ee95b73e94b4daa28e6c5cb9af52c\n",
      "  Stored in directory: c:\\users\\theengineerguyy\\appdata\\local\\pip\\cache\\wheels\\91\\28\\0d\\f4eb606d38276836237d6dc2abf094241e6db5682a126e0389\n",
      "  Building wheel for pyperclip (setup.py): started\n",
      "  Building wheel for pyperclip (setup.py): finished with status 'done'\n",
      "  Created wheel for pyperclip: filename=pyperclip-1.8.2-py3-none-any.whl size=11107 sha256=755525d0f851de8f44162cebca4dff4edb9bc348cda7957e6e8233c7ed4d8c74\n",
      "  Stored in directory: c:\\users\\theengineerguyy\\appdata\\local\\pip\\cache\\wheels\\7f\\1a\\65\\84ff8c386bec21fca6d220ea1f5498a0367883a78dd5ba6122\n",
      "  Building wheel for pyrect (setup.py): started\n",
      "  Building wheel for pyrect (setup.py): finished with status 'done'\n",
      "  Created wheel for pyrect: filename=PyRect-0.1.4-py2.py3-none-any.whl size=9547 sha256=938185c20c76ae253524e70ad930b126ba2d552ebf2992e22e70ed003d090eca\n",
      "  Stored in directory: c:\\users\\theengineerguyy\\appdata\\local\\pip\\cache\\wheels\\d1\\e4\\47\\c62f8291b16b6df7e89ac885881ff71f35ca04c6e384251de9\n",
      "  Building wheel for wikipedia (setup.py): started\n",
      "  Building wheel for wikipedia (setup.py): finished with status 'done'\n",
      "  Created wheel for wikipedia: filename=wikipedia-1.4.0-py3-none-any.whl size=11686 sha256=65328ecdf43e5645bcf26dbd6fa16368da2f1552544bd6674a6b42fad8e650d2\n",
      "  Stored in directory: c:\\users\\theengineerguyy\\appdata\\local\\pip\\cache\\wheels\\07\\93\\05\\72c05349177dca2e0ba31a33ba4f7907606f7ddef303517c6a\n",
      "Successfully built pyautogui pygetwindow pyscreeze PyTweening mouseinfo pymsgbox pyperclip pyrect wikipedia\n",
      "Installing collected packages: pyrect, pyperclip, PyTweening, pyscreeze, pymsgbox, pygetwindow, mouseinfo, wikipedia, pyautogui, pywhatkit\n",
      "Successfully installed PyTweening-1.0.4 mouseinfo-0.1.3 pyautogui-0.9.53 pygetwindow-0.0.9 pymsgbox-1.0.9 pyperclip-1.8.2 pyrect-0.1.4 pyscreeze-0.1.28 pywhatkit-5.3 wikipedia-1.4.0\n",
      "Note: you may need to restart the kernel to use updated packages.\n"
     ]
    }
   ],
   "source": [
    "pip install pywhatkit"
   ]
  },
  {
   "cell_type": "code",
   "execution_count": 3,
   "id": "fd9afd34",
   "metadata": {},
   "outputs": [
    {
     "name": "stdout",
     "output_type": "stream",
     "text": [
      "Requirement already satisfied: Pillow in c:\\users\\theengineerguyy\\anaconda3\\lib\\site-packages (8.2.0)\n",
      "Note: you may need to restart the kernel to use updated packages.\n"
     ]
    }
   ],
   "source": [
    "pip install Pillow"
   ]
  },
  {
   "cell_type": "code",
   "execution_count": 5,
   "id": "22699476",
   "metadata": {},
   "outputs": [],
   "source": [
    "\n",
    "import pytesseract \n",
    "from PIL import Image \n",
    "import os\n",
    "import pywhatkit as kit"
   ]
  },
  {
   "cell_type": "code",
   "execution_count": 19,
   "id": "6f6d7cb9",
   "metadata": {},
   "outputs": [],
   "source": [
    "os.chdir(r\"C:\\Users\\TheEngineerGuyy\\Desktop\")"
   ]
  },
  {
   "cell_type": "code",
   "execution_count": 26,
   "id": "87940c0d",
   "metadata": {},
   "outputs": [],
   "source": [
    "pytesseract.pytesseract.tesseract_cmd = r\"C:\\Program Files (x86)\\Tesseract-OCR\\tesseract.exe\"\n"
   ]
  },
  {
   "cell_type": "code",
   "execution_count": 27,
   "id": "12b44b3c",
   "metadata": {},
   "outputs": [],
   "source": [
    "img = Image.open(\"Capture.jpg\")\n",
    "text = pytesseract.image_to_string(img)\n"
   ]
  },
  {
   "cell_type": "code",
   "execution_count": 28,
   "id": "53dc7c0b",
   "metadata": {},
   "outputs": [],
   "source": [
    "kit.text_to_handwriting(text, rgb=[0, 0, 250])"
   ]
  },
  {
   "cell_type": "code",
   "execution_count": 35,
   "id": "9c9fa138",
   "metadata": {},
   "outputs": [],
   "source": [
    "# Import the following modules\n",
    "import pytesseract\n",
    "from PIL import Image\n",
    "import os\n",
    "import pywhatkit as kit\n",
    "\n",
    "# Change the directory to the\n",
    "# location where image is present\n",
    "os.chdir(r\"C:\\Users\\TheEngineerGuyy\\Desktop\")\n",
    "\n",
    "# Set the Path of Tesseract\n",
    "pytesseract.pytesseract.tesseract_cmd = r\"C:\\Program Files (x86)\\Tesseract-OCR\\tesseract.exe\"\n",
    "\n",
    "# Load the Image\n",
    "img = Image.open(\"Capture.jpg\")\n",
    "\n",
    "# Convert Image to Text\n",
    "text = pytesseract.image_to_string(img)\n",
    "\n",
    "# Convert Text to Hand Written Text\n",
    "kit.text_to_handwriting(text, rgb=[0, 0, 250])\n"
   ]
  }
 ],
 "metadata": {
  "kernelspec": {
   "display_name": "Python 3",
   "language": "python",
   "name": "python3"
  },
  "language_info": {
   "codemirror_mode": {
    "name": "ipython",
    "version": 3
   },
   "file_extension": ".py",
   "mimetype": "text/x-python",
   "name": "python",
   "nbconvert_exporter": "python",
   "pygments_lexer": "ipython3",
   "version": "3.8.8"
  }
 },
 "nbformat": 4,
 "nbformat_minor": 5
}
