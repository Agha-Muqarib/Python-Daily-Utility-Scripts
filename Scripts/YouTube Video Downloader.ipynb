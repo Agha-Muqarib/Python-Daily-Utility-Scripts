{
 "cells": [
  {
   "cell_type": "code",
   "execution_count": null,
   "id": "6205a5bd",
   "metadata": {},
   "outputs": [],
   "source": [
    "pip install pytube"
   ]
  },
  {
   "cell_type": "code",
   "execution_count": null,
   "id": "d942a49b",
   "metadata": {},
   "outputs": [],
   "source": [
    "pip install tk"
   ]
  },
  {
   "cell_type": "code",
   "execution_count": 15,
   "id": "607ffc26",
   "metadata": {},
   "outputs": [],
   "source": [
    "from pytube import YouTube\n",
    "import tkinter as tk\n",
    " \n",
    "root = tk.Tk()\n",
    "root.geometry('500x300')\n",
    "root.resizable(0,0)\n",
    "root.title(\"TheEngineerGuyy's YouDownloader\")\n",
    "\n",
    "tk.Label(root, text ='Youtube Video Downloader', font ='arial 20 bold').pack()\n",
    "\n",
    "# enter link\n",
    "link = tk.StringVar()\n",
    " \n",
    "tk.Label(root, text ='Paste Link Here:', font ='arial 15 bold').place(x= 160, y = 60)\n",
    "link_enter = tk.Entry(root, width = 70, textvariable = link).place(x = 32, y = 90)\n",
    " \n",
    "#function to download video\n",
    " \n",
    "def Downloader(): \n",
    "    url =YouTube(str(link.get()))\n",
    "    video = url.streams.first()\n",
    "    video.download()  # The video gets downloaded in the directory where your python files are present\n",
    "    tk.Label(root, text ='DOWNLOADED', font ='arial 15').place(x= 180, y = 210)\n",
    " \n",
    " \n",
    "tk.Button(root, text ='DOWNLOAD', font ='arial 15 bold', bg ='blue', padx = 2, command = Downloader).place(x=180, y = 150)\n",
    " \n",
    "root.mainloop()\n",
    " "
   ]
  }
 ],
 "metadata": {
  "kernelspec": {
   "display_name": "Python 3",
   "language": "python",
   "name": "python3"
  },
  "language_info": {
   "codemirror_mode": {
    "name": "ipython",
    "version": 3
   },
   "file_extension": ".py",
   "mimetype": "text/x-python",
   "name": "python",
   "nbconvert_exporter": "python",
   "pygments_lexer": "ipython3",
   "version": "3.8.8"
  }
 },
 "nbformat": 4,
 "nbformat_minor": 5
}
