{
 "cells": [
  {
   "cell_type": "code",
   "execution_count": 6,
   "id": "15856786",
   "metadata": {},
   "outputs": [],
   "source": [
    "\n",
    "# Pythono3 code to rename multiple\n",
    "# files in a directory or folder\n",
    " \n",
    "# importing os module\n",
    "\n",
    "import os\n",
    " \n",
    "# Function to rename multiple files\n",
    "\n",
    "def main():\n",
    "   \n",
    "    folder = \"Desktop\\extracted_images\\-\"\n",
    "    for count, filename in enumerate(os.listdir(folder)):\n",
    "        dst = f\"000000{str(count)}.jpg\"\n",
    "        src =f\"{folder}/{filename}\"  # foldername/filename, if .py file is outside folder\n",
    "        dst =f\"{folder}/{dst}\"\n",
    "         \n",
    "        # rename() function will\n",
    "        # rename all the files\n",
    "        os.rename(src, dst)\n",
    "        \n",
    "# Driver Code\n",
    "\n",
    "if __name__ == '__main__':\n",
    "     \n",
    "    # Calling main() function\n",
    "    main()"
   ]
  }
 ],
 "metadata": {
  "kernelspec": {
   "display_name": "Python 3",
   "language": "python",
   "name": "python3"
  },
  "language_info": {
   "codemirror_mode": {
    "name": "ipython",
    "version": 3
   },
   "file_extension": ".py",
   "mimetype": "text/x-python",
   "name": "python",
   "nbconvert_exporter": "python",
   "pygments_lexer": "ipython3",
   "version": "3.8.8"
  }
 },
 "nbformat": 4,
 "nbformat_minor": 5
}
