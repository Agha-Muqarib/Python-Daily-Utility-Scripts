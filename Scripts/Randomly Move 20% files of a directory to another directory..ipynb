{
 "cells": [
  {
   "cell_type": "code",
   "execution_count": 1,
   "id": "8ac62375",
   "metadata": {},
   "outputs": [],
   "source": [
    "import os, random, shutil\n",
    "\n",
    "source ='C:\\\\Users\\\\TheEngineerGuyy\\\\Desktop\\\\Images'         # Path to source directory\n",
    "destination ='C:\\\\Users\\\\TheEngineerGuyy\\\\Desktop\\\\Test'      # Path to destination directory\n",
    "\n",
    "onlyfiles = [f for f in os.listdir(source) if os.path.isfile(os.path.join(source, f))]\n",
    "no_of_files = round((len(onlyfiles)/5))\n",
    "\n",
    "def main():\n",
    "    for i in range(no_of_files):\n",
    "        files = [filenames for (filenames) in os.listdir(source)]\n",
    "        random_file = random.choice(files)\n",
    "        shutil.move(f'{source}\\\\{random_file}', destination)\n",
    "\n",
    "\n",
    "if __name__ == '__main__':\n",
    "    main()"
   ]
  },
  {
   "cell_type": "code",
   "execution_count": 3,
   "id": "31b35a79",
   "metadata": {},
   "outputs": [
    {
     "name": "stdout",
     "output_type": "stream",
     "text": [
      "8658\n"
     ]
    }
   ],
   "source": [
    "# Count total files in a directory\n",
    "\n",
    "onlyfiles = next(os.walk('C:\\\\Users\\\\TheEngineerGuyy\\\\Desktop\\\\Images'))[2] #dir is your directory path as string\n",
    "print(len(onlyfiles))"
   ]
  }
 ],
 "metadata": {
  "kernelspec": {
   "display_name": "Python 3",
   "language": "python",
   "name": "python3"
  },
  "language_info": {
   "codemirror_mode": {
    "name": "ipython",
    "version": 3
   },
   "file_extension": ".py",
   "mimetype": "text/x-python",
   "name": "python",
   "nbconvert_exporter": "python",
   "pygments_lexer": "ipython3",
   "version": "3.8.8"
  }
 },
 "nbformat": 4,
 "nbformat_minor": 5
}
